{
 "cells": [
  {
   "cell_type": "code",
   "execution_count": 1,
   "id": "600ccbe8",
   "metadata": {},
   "outputs": [],
   "source": [
    "import numpy as np\n",
    "import pandas as pd\n",
    "import seaborn as sns\n",
    "import matplotlib.pyplot as plt"
   ]
  },
  {
   "cell_type": "code",
   "execution_count": 2,
   "id": "60425156",
   "metadata": {},
   "outputs": [
    {
     "data": {
      "text/plain": [
       "(404351, 6)"
      ]
     },
     "execution_count": 2,
     "metadata": {},
     "output_type": "execute_result"
    }
   ],
   "source": [
    "df = pd.read_csv(\"dataset/questions.csv\")\n",
    "df.shape"
   ]
  },
  {
   "cell_type": "code",
   "execution_count": 3,
   "id": "5a3d86b9",
   "metadata": {},
   "outputs": [
    {
     "data": {
      "text/html": [
       "<div>\n",
       "<style scoped>\n",
       "    .dataframe tbody tr th:only-of-type {\n",
       "        vertical-align: middle;\n",
       "    }\n",
       "\n",
       "    .dataframe tbody tr th {\n",
       "        vertical-align: top;\n",
       "    }\n",
       "\n",
       "    .dataframe thead th {\n",
       "        text-align: right;\n",
       "    }\n",
       "</style>\n",
       "<table border=\"1\" class=\"dataframe\">\n",
       "  <thead>\n",
       "    <tr style=\"text-align: right;\">\n",
       "      <th></th>\n",
       "      <th>id</th>\n",
       "      <th>qid1</th>\n",
       "      <th>qid2</th>\n",
       "      <th>question1</th>\n",
       "      <th>question2</th>\n",
       "      <th>is_duplicate</th>\n",
       "    </tr>\n",
       "  </thead>\n",
       "  <tbody>\n",
       "    <tr>\n",
       "      <th>102326</th>\n",
       "      <td>102326</td>\n",
       "      <td>203020</td>\n",
       "      <td>203021</td>\n",
       "      <td>Which beers are similar to Stella Artois?</td>\n",
       "      <td>What can I do with 24 Stella Artois bottles?</td>\n",
       "      <td>0</td>\n",
       "    </tr>\n",
       "    <tr>\n",
       "      <th>372420</th>\n",
       "      <td>372420</td>\n",
       "      <td>728712</td>\n",
       "      <td>728713</td>\n",
       "      <td>Is it possible to know if someone saw my Whats...</td>\n",
       "      <td>What is the trick to know my WhatsApp profile ...</td>\n",
       "      <td>1</td>\n",
       "    </tr>\n",
       "    <tr>\n",
       "      <th>244767</th>\n",
       "      <td>244767</td>\n",
       "      <td>482043</td>\n",
       "      <td>482044</td>\n",
       "      <td>What shouldi know to buil a website?</td>\n",
       "      <td>I have never made a website and don't know how...</td>\n",
       "      <td>0</td>\n",
       "    </tr>\n",
       "    <tr>\n",
       "      <th>238529</th>\n",
       "      <td>238529</td>\n",
       "      <td>469865</td>\n",
       "      <td>469866</td>\n",
       "      <td>How bad is 6/18 eyesight?</td>\n",
       "      <td>How was bad eyesight dealt with in ancient and...</td>\n",
       "      <td>0</td>\n",
       "    </tr>\n",
       "    <tr>\n",
       "      <th>134386</th>\n",
       "      <td>134386</td>\n",
       "      <td>266124</td>\n",
       "      <td>266125</td>\n",
       "      <td>Which is the best whey protein in the market?</td>\n",
       "      <td>Which whey protein shoud I use?</td>\n",
       "      <td>1</td>\n",
       "    </tr>\n",
       "    <tr>\n",
       "      <th>247224</th>\n",
       "      <td>247224</td>\n",
       "      <td>486828</td>\n",
       "      <td>486829</td>\n",
       "      <td>What country has never kicked out the jews?</td>\n",
       "      <td>Is there any particular way to explain a movie...</td>\n",
       "      <td>0</td>\n",
       "    </tr>\n",
       "    <tr>\n",
       "      <th>232656</th>\n",
       "      <td>232656</td>\n",
       "      <td>458388</td>\n",
       "      <td>458389</td>\n",
       "      <td>What are the expected consequences of Declarin...</td>\n",
       "      <td>What will be the consequences of 500 and 1000 ...</td>\n",
       "      <td>1</td>\n",
       "    </tr>\n",
       "    <tr>\n",
       "      <th>246500</th>\n",
       "      <td>246500</td>\n",
       "      <td>485424</td>\n",
       "      <td>485425</td>\n",
       "      <td>Can I use Jio in iPhone 5s?</td>\n",
       "      <td>How do I get Jio sim for iPhone 5s?</td>\n",
       "      <td>1</td>\n",
       "    </tr>\n",
       "    <tr>\n",
       "      <th>150671</th>\n",
       "      <td>150671</td>\n",
       "      <td>298059</td>\n",
       "      <td>298060</td>\n",
       "      <td>Is reading in the night not as efficient as re...</td>\n",
       "      <td>Why is it that I can read so fast at night but...</td>\n",
       "      <td>1</td>\n",
       "    </tr>\n",
       "    <tr>\n",
       "      <th>318481</th>\n",
       "      <td>318481</td>\n",
       "      <td>624891</td>\n",
       "      <td>624892</td>\n",
       "      <td>What is the best app for gate exam?</td>\n",
       "      <td>What is some good preparation for the GATE exam?</td>\n",
       "      <td>0</td>\n",
       "    </tr>\n",
       "  </tbody>\n",
       "</table>\n",
       "</div>"
      ],
      "text/plain": [
       "            id    qid1    qid2  \\\n",
       "102326  102326  203020  203021   \n",
       "372420  372420  728712  728713   \n",
       "244767  244767  482043  482044   \n",
       "238529  238529  469865  469866   \n",
       "134386  134386  266124  266125   \n",
       "247224  247224  486828  486829   \n",
       "232656  232656  458388  458389   \n",
       "246500  246500  485424  485425   \n",
       "150671  150671  298059  298060   \n",
       "318481  318481  624891  624892   \n",
       "\n",
       "                                                question1  \\\n",
       "102326          Which beers are similar to Stella Artois?   \n",
       "372420  Is it possible to know if someone saw my Whats...   \n",
       "244767               What shouldi know to buil a website?   \n",
       "238529                          How bad is 6/18 eyesight?   \n",
       "134386      Which is the best whey protein in the market?   \n",
       "247224        What country has never kicked out the jews?   \n",
       "232656  What are the expected consequences of Declarin...   \n",
       "246500                        Can I use Jio in iPhone 5s?   \n",
       "150671  Is reading in the night not as efficient as re...   \n",
       "318481                What is the best app for gate exam?   \n",
       "\n",
       "                                                question2  is_duplicate  \n",
       "102326       What can I do with 24 Stella Artois bottles?             0  \n",
       "372420  What is the trick to know my WhatsApp profile ...             1  \n",
       "244767  I have never made a website and don't know how...             0  \n",
       "238529  How was bad eyesight dealt with in ancient and...             0  \n",
       "134386                    Which whey protein shoud I use?             1  \n",
       "247224  Is there any particular way to explain a movie...             0  \n",
       "232656  What will be the consequences of 500 and 1000 ...             1  \n",
       "246500                How do I get Jio sim for iPhone 5s?             1  \n",
       "150671  Why is it that I can read so fast at night but...             1  \n",
       "318481   What is some good preparation for the GATE exam?             0  "
      ]
     },
     "execution_count": 3,
     "metadata": {},
     "output_type": "execute_result"
    }
   ],
   "source": [
    "df.sample(10)"
   ]
  },
  {
   "cell_type": "code",
   "execution_count": 4,
   "id": "37b00141",
   "metadata": {},
   "outputs": [
    {
     "name": "stdout",
     "output_type": "stream",
     "text": [
      "<class 'pandas.core.frame.DataFrame'>\n",
      "RangeIndex: 404351 entries, 0 to 404350\n",
      "Data columns (total 6 columns):\n",
      " #   Column        Non-Null Count   Dtype \n",
      "---  ------        --------------   ----- \n",
      " 0   id            404351 non-null  int64 \n",
      " 1   qid1          404351 non-null  int64 \n",
      " 2   qid2          404351 non-null  int64 \n",
      " 3   question1     404350 non-null  object\n",
      " 4   question2     404349 non-null  object\n",
      " 5   is_duplicate  404351 non-null  int64 \n",
      "dtypes: int64(4), object(2)\n",
      "memory usage: 18.5+ MB\n"
     ]
    }
   ],
   "source": [
    "df.info()"
   ]
  },
  {
   "cell_type": "code",
   "execution_count": 5,
   "id": "c5b82789",
   "metadata": {},
   "outputs": [
    {
     "data": {
      "text/plain": [
       "id              0\n",
       "qid1            0\n",
       "qid2            0\n",
       "question1       1\n",
       "question2       2\n",
       "is_duplicate    0\n",
       "dtype: int64"
      ]
     },
     "execution_count": 5,
     "metadata": {},
     "output_type": "execute_result"
    }
   ],
   "source": [
    "# missing values\n",
    "df.isnull().sum()"
   ]
  },
  {
   "cell_type": "code",
   "execution_count": 6,
   "id": "e704abaf",
   "metadata": {},
   "outputs": [
    {
     "data": {
      "text/plain": [
       "0"
      ]
     },
     "execution_count": 6,
     "metadata": {},
     "output_type": "execute_result"
    }
   ],
   "source": [
    "# duplicate rows\n",
    "df.duplicated().sum()"
   ]
  },
  {
   "cell_type": "code",
   "execution_count": 7,
   "id": "3f9bd6af",
   "metadata": {},
   "outputs": [
    {
     "name": "stdout",
     "output_type": "stream",
     "text": [
      "0    255045\n",
      "1    149306\n",
      "Name: is_duplicate, dtype: int64\n",
      "0    63.07515\n",
      "1    36.92485\n",
      "Name: is_duplicate, dtype: float64\n"
     ]
    },
    {
     "data": {
      "text/plain": [
       "<AxesSubplot:>"
      ]
     },
     "execution_count": 7,
     "metadata": {},
     "output_type": "execute_result"
    },
    {
     "data": {
      "image/png": "[encoded data removed]",
      "text/plain": [
       "<Figure size 432x288 with 1 Axes>"
      ]
     },
     "metadata": {
      "needs_background": "light"
     },
     "output_type": "display_data"
    }
   ],
   "source": [
    "# Distribution of duplicate and non-duplicate questions\n",
    "\n",
    "print(df['is_duplicate'].value_counts())\n",
    "print((df['is_duplicate'].value_counts()/df['is_duplicate'].count())*100)\n",
    "df['is_duplicate'].value_counts().plot(kind='bar')"
   ]
  },
  {
   "cell_type": "code",
   "execution_count": 8,
   "id": "788d2d08",
   "metadata": {},
   "outputs": [
    {
     "name": "stdout",
     "output_type": "stream",
     "text": [
      "Number of unique questions 789801\n",
      "Number of questions getting repeated 13698\n"
     ]
    }
   ],
   "source": [
    "# Repeated questions\n",
    "\n",
    "qid = pd.Series(df['qid1'].tolist() + df['qid2'].tolist())\n",
    "print('Number of unique questions',np.unique(qid).shape[0])\n",
    "x = qid.value_counts()>1\n",
    "print('Number of questions getting repeated',x[x].shape[0])"
   ]
  },
  {
   "cell_type": "code",
   "execution_count": 9,
   "id": "2fa5bb83",
   "metadata": {},
   "outputs": [
    {
     "data": {
      "image/png": "[encoded data removed]",
      "text/plain": [
       "<Figure size 432x288 with 1 Axes>"
      ]
     },
     "metadata": {
      "needs_background": "light"
     },
     "output_type": "display_data"
    }
   ],
   "source": [
    "# Repeated questions histogram\n",
    "\n",
    "plt.hist(qid.value_counts().values,bins=160)\n",
    "plt.yscale('log')\n",
    "plt.show()"
   ]
  },
  {
   "cell_type": "code",
   "execution_count": null,
   "id": "f9573e2f",
   "metadata": {},
   "outputs": [],
   "source": []
  }
 ],
 "metadata": {
  "kernelspec": {
   "display_name": "Python 3 (ipykernel)",
   "language": "python",
   "name": "python3"
  },
  "language_info": {
   "codemirror_mode": {
    "name": "ipython",
    "version": 3
   },
   "file_extension": ".py",
   "mimetype": "text/x-python",
   "name": "python",
   "nbconvert_exporter": "python",
   "pygments_lexer": "ipython3",
   "version": "3.9.7"
  }
 },
 "nbformat": 4,
 "nbformat_minor": 5
}
